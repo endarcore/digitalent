{
 "cells": [
  {
   "cell_type": "code",
   "execution_count": 2,
   "metadata": {},
   "outputs": [
    {
     "name": "stdout",
     "output_type": "stream",
     "text": [
      "[83, 32, 31, 93, 12, 56, 97, 81, 39, 46, 14, 63, 18, 6, 9, 73, 97, 79, 49, 42, 94, 81, 67, 46, 87, 93, 58, 11, 8, 2, 30, 4, 53, 17, 2, 1, 17, 70, 63, 6, 82, 90, 18, 17, 75, 49, 75, 5, 66, 36, 3, 71, 25, 76, 42, 14, 66, 51, 36, 40, 80, 94, 39, 83, 23, 77, 64, 55, 27, 14, 67, 41, 21, 85, 47, 64, 86, 12, 93, 89, 63, 14, 38, 36, 77, 68, 74, 42, 36, 99, 16, 28, 46, 13, 28, 47, 55, 98, 76, 54, 59, 9, 15, 16, 57, 53, 65, 74, 58, 81, 13, 74, 89, 21, 67, 55, 80, 66, 80, 80, 87, 47, 71, 40, 84, 63, 54, 67, 87, 87, 25, 69, 71, 40, 11, 17, 68, 62, 77, 17, 28, 6, 73, 18, 73, 24, 88, 47, 28, 89, 70, 61, 60, 63, 79, 82, 53, 79, 11, 13, 83, 12, 4, 38, 38, 63, 89, 55, 34, 73, 93, 35, 87, 3, 12, 56, 5, 53, 63, 38, 57, 79, 41, 80, 24, 48, 39, 1, 2, 1, 90, 86, 59, 98, 90, 83, 5, 80, 14, 43, 12, 1, 33, 79, 96, 51, 11, 96, 59, 1, 9, 39, 54, 53, 64, 16, 11, 88, 79, 7, 72, 73, 80, 22, 24, 34, 99, 25, 31, 12, 76, 23, 67, 94, 92, 28, 57, 1, 93, 43, 48, 9, 82, 55, 34, 90, 26, 33, 3, 63]\n"
     ]
    }
   ],
   "source": [
    "import random\n",
    "\n",
    "# GENERATE RANDOM\n",
    "nilaiTugas = []\n",
    "for i in range(250):\n",
    "    nilaiTugas.append(random.randrange(1,100,1))\n",
    "\n",
    "print(nilaiTugas)\n"
   ]
  },
  {
   "cell_type": "code",
   "execution_count": 12,
   "metadata": {},
   "outputs": [
    {
     "name": "stdout",
     "output_type": "stream",
     "text": [
      "Nilai Ganjil\n",
      "33\n",
      "53\n",
      "31\n",
      "33\n",
      "13\n",
      "83\n",
      "67\n",
      "71\n",
      "81\n",
      "95\n",
      "79\n",
      "9\n",
      "75\n",
      "35\n",
      "75\n",
      "37\n",
      "77\n",
      "33\n",
      "25\n",
      "19\n",
      "73\n",
      "69\n",
      "57\n",
      "43\n",
      "57\n",
      "79\n",
      "85\n",
      "11\n",
      "19\n",
      "83\n",
      "29\n",
      "63\n",
      "45\n",
      "87\n",
      "27\n",
      "1\n",
      "41\n",
      "59\n",
      "67\n",
      "43\n",
      "25\n",
      "15\n",
      "19\n",
      "59\n",
      "27\n",
      "89\n",
      "89\n",
      "25\n",
      "67\n",
      "41\n",
      "51\n",
      "3\n",
      "71\n",
      "81\n",
      "93\n",
      "39\n",
      "53\n",
      "49\n",
      "11\n",
      "71\n",
      "75\n",
      "67\n",
      "79\n",
      "67\n",
      "1\n",
      "33\n",
      "25\n",
      "59\n",
      "55\n",
      "35\n",
      "29\n",
      "13\n",
      "21\n",
      "81\n",
      "51\n",
      "61\n",
      "23\n",
      "51\n",
      "31\n",
      "63\n",
      "51\n",
      "31\n",
      "83\n",
      "21\n",
      "81\n",
      "27\n",
      "39\n",
      "37\n",
      "75\n",
      "57\n",
      "61\n",
      "21\n",
      "47\n",
      "73\n",
      "29\n",
      "79\n",
      "9\n",
      "45\n",
      "25\n",
      "43\n",
      "21\n",
      "31\n",
      "67\n",
      "63\n",
      "87\n",
      "47\n",
      "11\n",
      "65\n",
      "89\n",
      "65\n",
      "9\n",
      "29\n",
      "35\n",
      "43\n",
      "65\n",
      "39\n",
      "73\n",
      "15\n",
      "31\n",
      "71\n",
      "13\n",
      "13\n",
      "83\n",
      "13\n",
      "27\n",
      "55\n",
      "45\n",
      "5\n",
      "75\n",
      "65\n",
      "47\n",
      "43\n"
     ]
    }
   ],
   "source": [
    "print(\"Nilai Ganjil\")\n",
    "for n in nilaiTugas:\n",
    "    if n%2==1:\n",
    "        print(n)"
   ]
  },
  {
   "cell_type": "code",
   "execution_count": 67,
   "metadata": {},
   "outputs": [
    {
     "name": "stdout",
     "output_type": "stream",
     "text": [
      "83\n",
      "93\n",
      "97\n",
      "81\n",
      "73\n",
      "97\n",
      "79\n",
      "94\n",
      "81\n",
      "87\n",
      "93\n",
      "82\n",
      "90\n",
      "75\n",
      "75\n",
      "71\n",
      "76\n",
      "80\n",
      "94\n",
      "83\n",
      "77\n",
      "85\n",
      "86\n",
      "93\n",
      "89\n",
      "77\n",
      "74\n",
      "99\n",
      "98\n",
      "76\n",
      "74\n",
      "81\n",
      "74\n",
      "89\n",
      "80\n",
      "80\n",
      "80\n",
      "87\n",
      "71\n",
      "84\n",
      "87\n",
      "87\n",
      "71\n",
      "77\n",
      "73\n",
      "73\n",
      "88\n",
      "89\n",
      "79\n",
      "82\n",
      "79\n",
      "83\n",
      "89\n",
      "73\n",
      "93\n",
      "87\n",
      "79\n",
      "80\n",
      "90\n",
      "86\n",
      "98\n",
      "90\n",
      "83\n",
      "80\n",
      "79\n",
      "96\n",
      "96\n",
      "88\n",
      "79\n",
      "72\n",
      "73\n",
      "80\n",
      "99\n",
      "76\n",
      "94\n",
      "92\n",
      "93\n",
      "82\n",
      "90\n",
      "79\n"
     ]
    }
   ],
   "source": [
    "\n",
    "for n in nilaiTugas:\n",
    "    if n>70:\n",
    "        print(n)\n",
    "       \n"
   ]
  },
  {
   "cell_type": "code",
   "execution_count": 9,
   "metadata": {},
   "outputs": [
    {
     "name": "stdout",
     "output_type": "stream",
     "text": [
      "29.2743516409843\n"
     ]
    }
   ],
   "source": [
    "for i in range(len(nilaiTugas)):\n",
    "    nilaiTugas[i]=int(nilaiTugas[i])\n",
    "jumlah=0\n",
    "for i in range(len(nilaiTugas)):\n",
    "    jumlah +=nilaiTugas[i]\n",
    "\n",
    "rata=jumlah/len(nilaiTugas)\n",
    "sigma = 0\n",
    "for i in range(len(nilaiTugas)):\n",
    "    hitung =(nilaiTugas[i]-rata)**2\n",
    "    sigma += hitung\n",
    "\n",
    "pembagianN=sigma/len(nilaiTugas)\n",
    "standarDeviasi=pembagianN ** 0.5\n",
    "print(standarDeviasi)"
   ]
  },
  {
   "cell_type": "code",
   "execution_count": 13,
   "metadata": {},
   "outputs": [
    {
     "name": "stdout",
     "output_type": "stream",
     "text": [
      "99\n"
     ]
    }
   ],
   "source": [
    "max=0\n",
    "for n in nilaiTugas:\n",
    "    if n > max:\n",
    "        max = n\n",
    "print(max)"
   ]
  },
  {
   "cell_type": "code",
   "execution_count": 15,
   "metadata": {},
   "outputs": [
    {
     "name": "stdout",
     "output_type": "stream",
     "text": [
      "17\n"
     ]
    }
   ],
   "source": [
    "min=nilaiTugas[1]\n",
    "for n in nilaiTugas:\n",
    "    if nilaiTugas[n] < nilaiTugas[1] :\n",
    "        min = nilaiTugas[n]\n",
    "print(min)"
   ]
  },
  {
   "cell_type": "code",
   "execution_count": 19,
   "metadata": {},
   "outputs": [
    {
     "name": "stdout",
     "output_type": "stream",
     "text": [
      "[80, 87, 38]\n"
     ]
    }
   ],
   "source": [
    "parameterModus = 0\n",
    "nilaiModus = []\n",
    "\n",
    "angka = nilaiTugas[0]\n",
    "banyakAngka = 1\n",
    "\n",
    "for i in range(1, len(nilaiTugas)):\n",
    "    if (nilaiTugas[i] == angka):\n",
    "        banyakAngka += 1\n",
    "    else:\n",
    "        if (banyakAngka > parameterModus):\n",
    "            parameterModus = banyakAngka\n",
    "            nilaiModus = []\n",
    "            nilaiModus.append(angka)\n",
    "        elif(banyakAngka == parameterModus):\n",
    "            nilaiModus.append(angka)\n",
    "        angka = nilaiTugas[i]\n",
    "        banyakAngka = 1\n",
    "if (banyakAngka > parameterModus):\n",
    "    parameterModus = banyakAngka\n",
    "    nilaiModus = []\n",
    "    nilaiModus.append(angka)\n",
    "elif(banyakAngka == parameterModus):\n",
    "    nilaiModus.append(angka)\n",
    "\n",
    "print(nilaiModus)"
   ]
  },
  {
   "cell_type": "code",
   "execution_count": 20,
   "metadata": {},
   "outputs": [],
   "source": [
    "##wordcount"
   ]
  },
  {
   "cell_type": "code",
   "execution_count": 21,
   "metadata": {},
   "outputs": [
    {
     "name": "stdout",
     "output_type": "stream",
     "text": [
      "Barcelona berhasil merebut posisi puncak klasemen La Liga Spanyol seusai menang 4-2 atas Sevilla pada pertandingan pekan kesembilan di Stadion Camp Nou, Sabtu (20/10/2018) atau Minggu dini hari WIB. Barcelona membuka keunggulan pada menit ke-2 melalui gol yang dicetak oleh Philippe Coutinho. Lionel Messi menggandakan keunggulan Barcelona, 10 menit berselang.  Namun, nahas bagi Barcelona, karena Messi harus ditarik keluar pada menit ke-26 setelah mengalami cedera. Tanpa Messi, skor 2-0 bertahan hingga babak pertama berakhir.\n"
     ]
    }
   ],
   "source": [
    "paragraf = \"Barcelona berhasil merebut posisi puncak klasemen La Liga Spanyol seusai menang 4-2 atas Sevilla pada pertandingan pekan kesembilan di Stadion Camp Nou, Sabtu (20/10/2018) atau Minggu dini hari WIB. Barcelona membuka keunggulan pada menit ke-2 melalui gol yang dicetak oleh Philippe Coutinho. Lionel Messi menggandakan keunggulan Barcelona, 10 menit berselang.  Namun, nahas bagi Barcelona, karena Messi harus ditarik keluar pada menit ke-26 setelah mengalami cedera. Tanpa Messi, skor 2-0 bertahan hingga babak pertama berakhir.\"\n",
    "print(paragraf)"
   ]
  },
  {
   "cell_type": "code",
   "execution_count": 22,
   "metadata": {},
   "outputs": [
    {
     "name": "stdout",
     "output_type": "stream",
     "text": [
      "barcelona berhasil merebut posisi puncak klasemen la liga spanyol seusai menang 4-2 atas sevilla pada pertandingan pekan kesembilan di stadion camp nou, sabtu (20/10/2018) atau minggu dini hari wib. barcelona membuka keunggulan pada menit ke-2 melalui gol yang dicetak oleh philippe coutinho. lionel messi menggandakan keunggulan barcelona, 10 menit berselang.  namun, nahas bagi barcelona, karena messi harus ditarik keluar pada menit ke-26 setelah mengalami cedera. tanpa messi, skor 2-0 bertahan hingga babak pertama berakhir.\n"
     ]
    }
   ],
   "source": [
    "print(paragraf.lower())"
   ]
  },
  {
   "cell_type": "code",
   "execution_count": 25,
   "metadata": {},
   "outputs": [
    {
     "name": "stdout",
     "output_type": "stream",
     "text": [
      "Barcelona berhasil merebut posisi puncak klasemen La Liga Spanyol seusai menang 4-2 atas Sevilla pada pertandingan pekan kesembilan di Stadion Camp Nou, Sabtu (20 10 2018) atau Minggu dini hari WIB. Barcelona membuka keunggulan pada menit ke-2 melalui gol yang dicetak oleh Philippe Coutinho. Lionel Messi menggandakan keunggulan Barcelona, 10 menit berselang.  Namun, nahas bagi Barcelona, karena Messi harus ditarik keluar pada menit ke-26 setelah mengalami cedera. Tanpa Messi, skor 2-0 bertahan hingga babak pertama berakhir.\n"
     ]
    }
   ],
   "source": [
    "paragraf = paragraf.replace(\"/\",\" \")\n",
    "print(paragraf)"
   ]
  },
  {
   "cell_type": "code",
   "execution_count": 51,
   "metadata": {
    "scrolled": true
   },
   "outputs": [
    {
     "name": "stdout",
     "output_type": "stream",
     "text": [
      "['Barcelona', 'berhasil', 'merebut', 'posisi', 'puncak', 'klasemen', 'La', 'Liga', 'Spanyol', 'seusai', 'menang', '4-2', 'atas', 'Sevilla', 'pada', 'pertandingan', 'pekan', 'kesembilan', 'di', 'Stadion', 'Camp', 'Nou,', 'Sabtu', '(20', '10', '2018)', 'atau', 'Minggu', 'dini', 'hari', 'WIB.', 'Barcelona', 'membuka', 'keunggulan', 'pada', 'menit', 'ke-2', 'melalui', 'gol', 'yang', 'dicetak', 'oleh', 'Philippe', 'Coutinho.', 'Lionel', 'Messi', 'menggandakan', 'keunggulan', 'Barcelona,', '10', 'menit', 'berselang.', 'Namun,', 'nahas', 'bagi', 'Barcelona,', 'karena', 'Messi', 'harus', 'ditarik', 'keluar', 'pada', 'menit', 'ke-26', 'setelah', 'mengalami', 'cedera.', 'Tanpa', 'Messi,', 'skor', '2-0', 'bertahan', 'hingga', 'babak', 'pertama', 'berakhir.']\n"
     ]
    }
   ],
   "source": [
    "kata=paragraf.split()\n",
    "print(kata)"
   ]
  },
  {
   "cell_type": "code",
   "execution_count": 61,
   "metadata": {},
   "outputs": [
    {
     "name": "stdout",
     "output_type": "stream",
     "text": [
      "dict_values([2, 1, 1, 1, 1, 1, 1, 1, 1, 1, 1, 1, 1, 1, 3, 1, 1, 1, 1, 1, 1, 1, 1, 1, 2, 1, 1, 1, 1, 1, 1, 1, 2, 3, 1, 1, 1, 1, 1, 1, 1, 1, 1, 2, 1, 2, 1, 1, 1, 1, 1, 1, 1, 1, 1, 1, 1, 1, 1, 1, 1, 1, 1, 1, 1, 1, 1])\n",
      "dict_items([('Barcelona', 2), ('berhasil', 1), ('merebut', 1), ('posisi', 1), ('puncak', 1), ('klasemen', 1), ('La', 1), ('Liga', 1), ('Spanyol', 1), ('seusai', 1), ('menang', 1), ('4-2', 1), ('atas', 1), ('Sevilla', 1), ('pada', 3), ('pertandingan', 1), ('pekan', 1), ('kesembilan', 1), ('di', 1), ('Stadion', 1), ('Camp', 1), ('Nou,', 1), ('Sabtu', 1), ('(20', 1), ('10', 2), ('2018)', 1), ('atau', 1), ('Minggu', 1), ('dini', 1), ('hari', 1), ('WIB.', 1), ('membuka', 1), ('keunggulan', 2), ('menit', 3), ('ke-2', 1), ('melalui', 1), ('gol', 1), ('yang', 1), ('dicetak', 1), ('oleh', 1), ('Philippe', 1), ('Coutinho.', 1), ('Lionel', 1), ('Messi', 2), ('menggandakan', 1), ('Barcelona,', 2), ('berselang.', 1), ('Namun,', 1), ('nahas', 1), ('bagi', 1), ('karena', 1), ('harus', 1), ('ditarik', 1), ('keluar', 1), ('ke-26', 1), ('setelah', 1), ('mengalami', 1), ('cedera.', 1), ('Tanpa', 1), ('Messi,', 1), ('skor', 1), ('2-0', 1), ('bertahan', 1), ('hingga', 1), ('babak', 1), ('pertama', 1), ('berakhir.', 1)])\n",
      "Barcelona 2\n",
      "berhasil 1\n",
      "merebut 1\n",
      "posisi 1\n",
      "puncak 1\n",
      "klasemen 1\n",
      "La 1\n",
      "Liga 1\n",
      "Spanyol 1\n",
      "seusai 1\n",
      "menang 1\n",
      "4-2 1\n",
      "atas 1\n",
      "Sevilla 1\n",
      "pada 3\n",
      "pertandingan 1\n",
      "pekan 1\n",
      "kesembilan 1\n",
      "di 1\n",
      "Stadion 1\n",
      "Camp 1\n",
      "Nou, 1\n",
      "Sabtu 1\n",
      "(20 1\n",
      "10 2\n",
      "2018) 1\n",
      "atau 1\n",
      "Minggu 1\n",
      "dini 1\n",
      "hari 1\n",
      "WIB. 1\n",
      "membuka 1\n",
      "keunggulan 2\n",
      "menit 3\n",
      "ke-2 1\n",
      "melalui 1\n",
      "gol 1\n",
      "yang 1\n",
      "dicetak 1\n",
      "oleh 1\n",
      "Philippe 1\n",
      "Coutinho. 1\n",
      "Lionel 1\n",
      "Messi 2\n",
      "menggandakan 1\n",
      "Barcelona, 2\n",
      "berselang. 1\n",
      "Namun, 1\n",
      "nahas 1\n",
      "bagi 1\n",
      "karena 1\n",
      "harus 1\n",
      "ditarik 1\n",
      "keluar 1\n",
      "ke-26 1\n",
      "setelah 1\n",
      "mengalami 1\n",
      "cedera. 1\n",
      "Tanpa 1\n",
      "Messi, 1\n",
      "skor 1\n",
      "2-0 1\n",
      "bertahan 1\n",
      "hingga 1\n",
      "babak 1\n",
      "pertama 1\n",
      "berakhir. 1\n"
     ]
    }
   ],
   "source": [
    "d={}\n",
    "for w in kata:\n",
    "    if w in d:\n",
    "        d[w]=d[w]+1\n",
    "    else:\n",
    "        d[w]=1\n",
    "\n",
    "print(d.values())\n",
    "print(d.items())\n",
    "\n",
    "for i,j in d.items():\n",
    "    print(i,j)"
   ]
  },
  {
   "cell_type": "code",
   "execution_count": null,
   "metadata": {},
   "outputs": [],
   "source": []
  }
 ],
 "metadata": {
  "kernelspec": {
   "display_name": "Python 3",
   "language": "python",
   "name": "python3"
  },
  "language_info": {
   "codemirror_mode": {
    "name": "ipython",
    "version": 3
   },
   "file_extension": ".py",
   "mimetype": "text/x-python",
   "name": "python",
   "nbconvert_exporter": "python",
   "pygments_lexer": "ipython3",
   "version": "3.7.0"
  }
 },
 "nbformat": 4,
 "nbformat_minor": 2
}
