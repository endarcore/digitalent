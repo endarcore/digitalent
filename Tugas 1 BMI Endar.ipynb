{
 "cells": [
  {
   "cell_type": "code",
   "execution_count": 4,
   "metadata": {},
   "outputs": [],
   "source": [
    "## Tugas BMI"
   ]
  },
  {
   "cell_type": "code",
   "execution_count": null,
   "metadata": {},
   "outputs": [],
   "source": []
  },
  {
   "cell_type": "code",
   "execution_count": 5,
   "metadata": {},
   "outputs": [
    {
     "name": "stdout",
     "output_type": "stream",
     "text": [
      "normal'(healhty weight)'\n"
     ]
    }
   ],
   "source": [
    "Weight=80\n",
    "Height=180\n",
    "Height_in_meter=Height/100\n",
    "BMI=Weight/(Height_in_meter**2)\n",
    "if BMI<15:\n",
    "    print(\"very severely underweight\")\n",
    "elif 15<=BMI<16:\n",
    "    print(\"severely underweight\")\n",
    "elif 16<=BMI<18.5:\n",
    "    print(\"Underweight\")\n",
    "elif 18.5<=BMI<25\n",
    "    print(\"normal'(healhty weight)'\")\n",
    "elif 25<=BMI<30:\n",
    "    print(\"overweight\")\n",
    "elif 30<=BMI<35:\n",
    "    print(\"moderately obese\")\n",
    "elif 35<=BMI<40:\n",
    "    print(\"severely obese\")\n",
    "else:\n",
    "    print(\"very severely obese\")\n"
   ]
  },
  {
   "cell_type": "code",
   "execution_count": null,
   "metadata": {},
   "outputs": [],
   "source": []
  }
 ],
 "metadata": {
  "kernelspec": {
   "display_name": "Python 3",
   "language": "python",
   "name": "python3"
  },
  "language_info": {
   "codemirror_mode": {
    "name": "ipython",
    "version": 3
   },
   "file_extension": ".py",
   "mimetype": "text/x-python",
   "name": "python",
   "nbconvert_exporter": "python",
   "pygments_lexer": "ipython3",
   "version": "3.7.0"
  }
 },
 "nbformat": 4,
 "nbformat_minor": 2
}
